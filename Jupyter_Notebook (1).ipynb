{
 "cells": [
  {
   "cell_type": "markdown",
   "metadata": {},
   "source": [
    "<center>\n",
    "    <img src=\"https://cf-courses-data.s3.us.cloud-object-storage.appdomain.cloud/IBMDeveloperSkillsNetwork-DS0105EN-SkillsNetwork/labs/Module2/images/SN_web_lightmode.png\" width=\"300\" alt=\"cognitiveclass.ai logo\">\n",
    "</center>\n"
   ]
  },
  {
   "cell_type": "markdown",
   "metadata": {},
   "source": [
    "#### Add your code below following the instructions given in the course\n"
   ]
  },
  {
   "cell_type": "markdown",
   "metadata": {},
   "source": [
    "## Data Science Tools and Ecosystem\n",
    "\n",
    "In this notebook, Data ScienceTools and Ecosystem are sumarized.\n",
    "\n",
    "**Objectives:**\n",
    "\n",
    "List popular languages and libraries for Data Science\n",
    "\n",
    "Some of popular languages that Data Scientists use are:\n",
    "\n",
    "\n",
    "```python\n",
    ">>> languages = [\"Julia\", \"Python\", \"R\"]      # Popular languages in alphabetical order\n",
    ">>> print(languages)\n",
    "```\n",
    "\n",
    "    ['Julia', 'Python', 'R']\n",
    "\n",
    "\n",
    "Some os the commonly used libraries used by Data Scientists include:\n",
    "\n",
    "\n",
    "```python\n",
    ">>> libraries = [\"caret\", \"Pandas\", \"TensorFlow\"]      # Commonly used libraries in alphabetical order\n",
    ">>> print(libraries)\n",
    "```\n",
    "\n",
    "    ['caret', 'Pandas', 'TensorFlow']\n",
    "\n",
    "\n",
    "| Data Science Tools |\n",
    "| -------------------|\n",
    "| Jupiter Notebook |\n",
    "| Jupiter Lab |\n",
    "| Rstudio  |\n",
    "\n",
    "Below area a few examples of evaluating arithmetic expressions in Python\n",
    "\n",
    "This is a simple arithmetic  extression  to multiply  then add integers\n",
    "\n",
    "\n",
    "```python\n",
    "(3*4)+5\n",
    "```\n",
    "\n",
    "\n",
    "\n",
    "\n",
    "    17\n",
    "\n",
    "\n",
    "\n",
    "This will  convert  200 minutes to  hours  by  diving by 60\n",
    "\n",
    "\n",
    "```python\n",
    "200/60"
   ]
  },
  {
   "cell_type": "markdown",
   "metadata": {},
   "source": [
    "### Author:"
   ]
  },
  {
   "cell_type": "markdown",
   "metadata": {},
   "source": [
    "Carlos Junior"
   ]
  },
  {
   "cell_type": "code",
   "execution_count": null,
   "metadata": {},
   "outputs": [],
   "source": []
  }
 ],
 "metadata": {
  "kernelspec": {
   "display_name": "Python 3 (ipykernel)",
   "language": "python",
   "name": "python3"
  },
  "language_info": {
   "codemirror_mode": {
    "name": "ipython",
    "version": 3
   },
   "file_extension": ".py",
   "mimetype": "text/x-python",
   "name": "python",
   "nbconvert_exporter": "python",
   "pygments_lexer": "ipython3",
   "version": "3.12.8"
  }
 },
 "nbformat": 4,
 "nbformat_minor": 4
}
